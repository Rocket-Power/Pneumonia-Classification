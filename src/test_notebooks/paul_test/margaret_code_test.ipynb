{
 "cells": [
  {
   "attachments": {},
   "cell_type": "markdown",
   "metadata": {},
   "source": [
    "Import Initial Data"
   ]
  },
  {
   "cell_type": "code",
   "execution_count": 1,
   "metadata": {},
   "outputs": [
    {
     "name": "stdout",
     "output_type": "stream",
     "text": [
      "[name: \"/device:CPU:0\"\n",
      "device_type: \"CPU\"\n",
      "memory_limit: 268435456\n",
      "locality {\n",
      "}\n",
      "incarnation: 5466419396212756211\n",
      "xla_global_id: -1\n",
      ", name: \"/device:GPU:0\"\n",
      "device_type: \"GPU\"\n",
      "memory_limit: 5718933504\n",
      "locality {\n",
      "  bus_id: 1\n",
      "  links {\n",
      "  }\n",
      "}\n",
      "incarnation: 6065668296228390391\n",
      "physical_device_desc: \"device: 0, name: NVIDIA GeForce RTX 3070 Ti Laptop GPU, pci bus id: 0000:01:00.0, compute capability: 8.6\"\n",
      "xla_global_id: 416903419\n",
      "]\n",
      "[PhysicalDevice(name='/physical_device:GPU:0', device_type='GPU')]\n"
     ]
    }
   ],
   "source": [
    "import os\n",
    "# run once\n",
    "# os.add_dll_directory(\"C:/Program Files/NVIDIA GPU Computing Toolkit/CUDA/v11.2/bin\")\n",
    "import tensorflow as tf\n",
    "# tf.config.list_physical_devices('GPU')\n",
    "\n",
    "\n",
    "from tensorflow.python.client import device_lib\n",
    "print(device_lib.list_local_devices())\n",
    "gpus = tf.config.list_physical_devices('GPU')\n",
    "print(gpus)\n",
    "tf.config.set_visible_devices(gpus[0], 'GPU')\n",
    "\n"
   ]
  },
  {
   "cell_type": "code",
   "execution_count": 79,
   "metadata": {},
   "outputs": [],
   "source": [
    "# imports \n",
    "from tensorflow import keras\n",
    "from tensorflow.keras.utils import image_dataset_from_directory\n",
    "from tensorflow.keras.applications.resnet50 import ResNet50\n",
    "from tensorflow.keras.applications.resnet_v2 import ResNet50V2\n",
    "from tensorflow.keras.applications.inception_v3 import InceptionV3\n",
    "from tensorflow.keras.models import Model\n",
    "from tensorflow.keras.layers import Dense, GlobalAveragePooling2D"
   ]
  },
  {
   "cell_type": "code",
   "execution_count": null,
   "metadata": {},
   "outputs": [],
   "source": [
    "# Figure out how to import this model \n",
    "# from tensorflow.keras.applications.resnet50v2 import ResNet50V2"
   ]
  },
  {
   "cell_type": "code",
   "execution_count": 15,
   "metadata": {},
   "outputs": [],
   "source": [
    "# Note: There are only 8 images per label here, so we're going to have to change what we do here \n",
    "# Confirmed that the # of images in the 3 folders sum to 5,856, which is the total number of images \n"
   ]
  },
  {
   "attachments": {},
   "cell_type": "markdown",
   "metadata": {},
   "source": [
    "SPLIT DATA RUN ONLY ONCE !!!!!!"
   ]
  },
  {
   "cell_type": "code",
   "execution_count": 85,
   "metadata": {},
   "outputs": [],
   "source": [
    "# Split data set into train, val, and test\n",
    "# just change the directory\n",
    "# ONLY RUN ONCE DO NOT RUN AGAIN\n",
    "import splitfolders\n",
    "\n",
    "splitfolders.ratio(\"D:\\Paul_Backup\\paulj\\Pneumonia-Classification\\src\\data\", output = \"D:\\Paul_Backup\\paulj\\Pneumonia-Classification\\src\\data_split\", seed = 1337, ratio = (0.6,0.2,0.2), group_prefix=None, move=False)\n",
    "\n",
    "# add code to check for data_split directory if exists delete and create again or don't run \n"
   ]
  },
  {
   "cell_type": "code",
   "execution_count": 86,
   "metadata": {},
   "outputs": [
    {
     "name": "stdout",
     "output_type": "stream",
     "text": [
      "d:\\Paul_Backup\\paulj\\Pneumonia-Classification\\src\\test_notebooks\\paul_test\n",
      "Found 3512 files belonging to 2 classes.\n"
     ]
    }
   ],
   "source": [
    "# Training data: 3512\n",
    "print(os.getcwd())\n",
    "train_data = keras.utils.image_dataset_from_directory(\n",
    "    'D:\\\\Paul_Backup\\\\paulj\\\\Pneumonia-Classification\\\\src\\\\data_split\\\\train',\n",
    "    image_size=(180, 180), \n",
    "    batch_size=32, \n",
    "    seed = 10\n",
    ")"
   ]
  },
  {
   "cell_type": "code",
   "execution_count": 87,
   "metadata": {},
   "outputs": [
    {
     "name": "stdout",
     "output_type": "stream",
     "text": [
      "Found 1170 files belonging to 2 classes.\n"
     ]
    }
   ],
   "source": [
    "# Validation data: 1170\n",
    "val_data = keras.utils.image_dataset_from_directory(\n",
    "    'D:\\\\Paul_Backup\\\\paulj\\\\Pneumonia-Classification\\\\src\\\\data_split\\\\val',\n",
    "    image_size=(180, 180), \n",
    "    batch_size=32, \n",
    "    seed = 10\n",
    ")"
   ]
  },
  {
   "cell_type": "code",
   "execution_count": 88,
   "metadata": {},
   "outputs": [
    {
     "name": "stdout",
     "output_type": "stream",
     "text": [
      "Found 1174 files belonging to 2 classes.\n"
     ]
    }
   ],
   "source": [
    "# Test data: 1174\n",
    "test_data = keras.utils.image_dataset_from_directory(\n",
    "    'D:\\\\Paul_Backup\\\\paulj\\\\Pneumonia-Classification\\\\src\\\\data_split\\\\test',\n",
    "    image_size=(180, 180), \n",
    "    batch_size=32, \n",
    ")"
   ]
  },
  {
   "cell_type": "code",
   "execution_count": 89,
   "metadata": {},
   "outputs": [],
   "source": [
    "fulltrain = train_data.concatenate(val_data)\n"
   ]
  },
  {
   "cell_type": "code",
   "execution_count": 42,
   "metadata": {},
   "outputs": [
    {
     "data": {
      "text/plain": [
       "147"
      ]
     },
     "execution_count": 42,
     "metadata": {},
     "output_type": "execute_result"
    }
   ],
   "source": [
    "len(list(fulltrain))"
   ]
  },
  {
   "cell_type": "code",
   "execution_count": 43,
   "metadata": {},
   "outputs": [
    {
     "data": {
      "text/plain": [
       "<tf.Tensor: shape=(), dtype=int64, numpy=147>"
      ]
     },
     "execution_count": 43,
     "metadata": {},
     "output_type": "execute_result"
    }
   ],
   "source": [
    "tf.data.experimental.cardinality(fulltrain)"
   ]
  },
  {
   "cell_type": "code",
   "execution_count": 45,
   "metadata": {},
   "outputs": [
    {
     "data": {
      "text/plain": [
       "<tf.Tensor: shape=(), dtype=int64, numpy=37>"
      ]
     },
     "execution_count": 45,
     "metadata": {},
     "output_type": "execute_result"
    }
   ],
   "source": [
    "tf.data.experimental.cardinality(val_data)"
   ]
  },
  {
   "cell_type": "code",
   "execution_count": 46,
   "metadata": {},
   "outputs": [
    {
     "data": {
      "text/plain": [
       "<tf.Tensor: shape=(), dtype=int64, numpy=110>"
      ]
     },
     "execution_count": 46,
     "metadata": {},
     "output_type": "execute_result"
    }
   ],
   "source": [
    "tf.data.experimental.cardinality(train_data)"
   ]
  },
  {
   "attachments": {},
   "cell_type": "markdown",
   "metadata": {},
   "source": [
    "Initial ResNet 50 Model:"
   ]
  },
  {
   "cell_type": "code",
   "execution_count": 80,
   "metadata": {},
   "outputs": [],
   "source": [
    "# Function to build model \n",
    "def build_resnet50_model():\n",
    "    \n",
    "    # Define input shape for the model \n",
    "    inputs = keras.Input(shape = (180, 180, 3))\n",
    "    # Resnet 50 basemodel \n",
    "    base_model = ResNet50(input_shape = (180, 180, 3), weights = 'imagenet', include_top = False)\n",
    "    \n",
    "    for layer in base_model.layers:\n",
    "        layer.trainable = False\n",
    "    \n",
    "    x = keras.applications.resnet50.preprocess_input(inputs)\n",
    "    x = base_model(x)\n",
    "    x = keras.layers.Flatten()(x)\n",
    " \n",
    "    x = keras.layers.Dense(256, activation = 'relu')(x)\n",
    "    x = keras.layers.Dropout(0.2)(x)\n",
    "    outputs = keras.layers.Dense(1, activation = 'sigmoid')(x)\n",
    "    \n",
    "    model = keras.Model(inputs, outputs)\n",
    "    model.compile(loss = 'binary_crossentropy', metrics = ['accuracy'])\n",
    "    \n",
    "    return model"
   ]
  },
  {
   "cell_type": "code",
   "execution_count": 81,
   "metadata": {},
   "outputs": [],
   "source": [
    "# Build the model: \n",
    "resnet50_mod = build_resnet50_model()"
   ]
  },
  {
   "cell_type": "code",
   "execution_count": 82,
   "metadata": {},
   "outputs": [],
   "source": [
    "# Function to fit model \n",
    "def fit_model(model, train_set, validation_set):\n",
    "    \"\"\"Fit a model with the above stated criteria\"\"\"\n",
    "    # Set patience to 5 so it doesn't take too long to fit \n",
    "    early_stopping = keras.callbacks.EarlyStopping(patience = 5)\n",
    "    \n",
    "    model.fit(train_set, \n",
    "              validation_data = validation_set, \n",
    "              callbacks = [early_stopping], \n",
    "              epochs = 500)\n",
    "    \n",
    "    return model"
   ]
  },
  {
   "cell_type": "code",
   "execution_count": 83,
   "metadata": {},
   "outputs": [
    {
     "name": "stdout",
     "output_type": "stream",
     "text": [
      "Epoch 1/500\n",
      "110/110 [==============================] - 10s 63ms/step - loss: 4.1018 - accuracy: 0.9052 - val_loss: 0.2027 - val_accuracy: 0.9462\n",
      "Epoch 2/500\n",
      "110/110 [==============================] - 6s 57ms/step - loss: 0.3226 - accuracy: 0.9462 - val_loss: 0.2598 - val_accuracy: 0.9547\n",
      "Epoch 3/500\n",
      "110/110 [==============================] - 6s 57ms/step - loss: 0.2105 - accuracy: 0.9655 - val_loss: 0.1572 - val_accuracy: 0.9538\n",
      "Epoch 4/500\n",
      "110/110 [==============================] - 6s 57ms/step - loss: 0.1836 - accuracy: 0.9690 - val_loss: 0.2464 - val_accuracy: 0.9581\n",
      "Epoch 5/500\n",
      "110/110 [==============================] - 6s 57ms/step - loss: 0.1050 - accuracy: 0.9778 - val_loss: 0.1235 - val_accuracy: 0.9692\n",
      "Epoch 6/500\n",
      "110/110 [==============================] - 6s 57ms/step - loss: 0.1078 - accuracy: 0.9795 - val_loss: 0.2403 - val_accuracy: 0.9650\n",
      "Epoch 7/500\n",
      "110/110 [==============================] - 6s 57ms/step - loss: 0.0806 - accuracy: 0.9860 - val_loss: 0.4862 - val_accuracy: 0.9504\n",
      "Epoch 8/500\n",
      "110/110 [==============================] - 7s 57ms/step - loss: 0.0515 - accuracy: 0.9875 - val_loss: 0.2040 - val_accuracy: 0.9709\n",
      "Epoch 9/500\n",
      "110/110 [==============================] - 6s 57ms/step - loss: 0.0689 - accuracy: 0.9875 - val_loss: 0.9463 - val_accuracy: 0.9145\n",
      "Epoch 10/500\n",
      "110/110 [==============================] - 6s 57ms/step - loss: 0.0530 - accuracy: 0.9903 - val_loss: 0.2728 - val_accuracy: 0.9632\n"
     ]
    }
   ],
   "source": [
    "# Fit the model: \n",
    "# Started 12:18 pm; ended 12:55 pm --> 37 min to train \n",
    "# Best model: \n",
    "fitted_resnet50_mod = fit_model(resnet50_mod, train_data, val_data)"
   ]
  },
  {
   "cell_type": "code",
   "execution_count": 84,
   "metadata": {},
   "outputs": [
    {
     "name": "stdout",
     "output_type": "stream",
     "text": [
      "37/37 [==============================] - 2s 40ms/step - loss: 0.2985 - accuracy: 0.9719\n"
     ]
    },
    {
     "data": {
      "text/plain": [
       "[0.2985367178916931, 0.9718909859657288]"
      ]
     },
     "execution_count": 84,
     "metadata": {},
     "output_type": "execute_result"
    }
   ],
   "source": [
    "fitted_resnet50_mod.evaluate(test_data)"
   ]
  },
  {
   "attachments": {},
   "cell_type": "markdown",
   "metadata": {},
   "source": [
    "Initial Inception V3 model"
   ]
  },
  {
   "cell_type": "code",
   "execution_count": 27,
   "metadata": {},
   "outputs": [],
   "source": [
    "# Function to build model \n",
    "def build_inceptionV3_model():\n",
    "    \n",
    "    # Define input shape for the model \n",
    "    inputs = keras.Input(shape = (180, 180, 3))\n",
    "    # InceptionV3 base model \n",
    "    base_model = InceptionV3(input_shape = (180, 180, 3), weights = 'imagenet', include_top = False)\n",
    "    \n",
    "    for layer in base_model.layers:\n",
    "        layer.trainable = False\n",
    "    \n",
    "    x = keras.applications.resnet50.preprocess_input(inputs)\n",
    "    x = base_model(x)\n",
    "    x = keras.layers.Flatten()(x)\n",
    " \n",
    "    x = keras.layers.Dense(256, activation = 'relu')(x)\n",
    "    x = keras.layers.Dropout(0.5)(x)\n",
    "    outputs = keras.layers.Dense(1, activation = 'sigmoid')(x)\n",
    "    \n",
    "    model = keras.Model(inputs, outputs)\n",
    "    model.compile(loss = 'binary_crossentropy', metrics = ['accuracy'])\n",
    "    \n",
    "    return model"
   ]
  },
  {
   "cell_type": "code",
   "execution_count": 28,
   "metadata": {},
   "outputs": [
    {
     "name": "stdout",
     "output_type": "stream",
     "text": [
      "Downloading data from https://storage.googleapis.com/tensorflow/keras-applications/inception_v3/inception_v3_weights_tf_dim_ordering_tf_kernels_notop.h5\n",
      "87910968/87910968 [==============================] - 3s 0us/step\n"
     ]
    }
   ],
   "source": [
    "# Build the model: \n",
    "inceptionV3_mod = build_inceptionV3_model()"
   ]
  },
  {
   "cell_type": "code",
   "execution_count": 29,
   "metadata": {},
   "outputs": [
    {
     "name": "stdout",
     "output_type": "stream",
     "text": [
      "Epoch 1/500\n",
      "110/110 [==============================] - 9s 54ms/step - loss: 45.4147 - accuracy: 0.8260 - val_loss: 0.2524 - val_accuracy: 0.9162\n",
      "Epoch 2/500\n",
      "110/110 [==============================] - 5s 46ms/step - loss: 3.0751 - accuracy: 0.8331 - val_loss: 0.6364 - val_accuracy: 0.8940\n",
      "Epoch 3/500\n",
      "110/110 [==============================] - 5s 45ms/step - loss: 1.3997 - accuracy: 0.8485 - val_loss: 0.4082 - val_accuracy: 0.9051\n",
      "Epoch 4/500\n",
      "110/110 [==============================] - 5s 44ms/step - loss: 1.0579 - accuracy: 0.8730 - val_loss: 0.2310 - val_accuracy: 0.9385\n",
      "Epoch 5/500\n",
      "110/110 [==============================] - 5s 44ms/step - loss: 0.6529 - accuracy: 0.8682 - val_loss: 0.3089 - val_accuracy: 0.9239\n",
      "Epoch 6/500\n",
      "110/110 [==============================] - 5s 44ms/step - loss: 0.6720 - accuracy: 0.8687 - val_loss: 0.2724 - val_accuracy: 0.9419\n",
      "Epoch 7/500\n",
      "110/110 [==============================] - 5s 44ms/step - loss: 0.5545 - accuracy: 0.8767 - val_loss: 0.2505 - val_accuracy: 0.9419\n",
      "Epoch 8/500\n",
      "110/110 [==============================] - 5s 44ms/step - loss: 0.4449 - accuracy: 0.8909 - val_loss: 0.2053 - val_accuracy: 0.9385\n",
      "Epoch 9/500\n",
      "110/110 [==============================] - 5s 44ms/step - loss: 0.6156 - accuracy: 0.8978 - val_loss: 0.4596 - val_accuracy: 0.8709\n",
      "Epoch 10/500\n",
      "110/110 [==============================] - 5s 44ms/step - loss: 0.4289 - accuracy: 0.8969 - val_loss: 0.1900 - val_accuracy: 0.9436\n",
      "Epoch 11/500\n",
      "110/110 [==============================] - 5s 45ms/step - loss: 0.2647 - accuracy: 0.9038 - val_loss: 0.2303 - val_accuracy: 0.9487\n",
      "Epoch 12/500\n",
      "110/110 [==============================] - 5s 45ms/step - loss: 0.4853 - accuracy: 0.9018 - val_loss: 0.1857 - val_accuracy: 0.9436\n",
      "Epoch 13/500\n",
      "110/110 [==============================] - 5s 45ms/step - loss: 0.3147 - accuracy: 0.9160 - val_loss: 0.3613 - val_accuracy: 0.9120\n",
      "Epoch 14/500\n",
      "110/110 [==============================] - 5s 44ms/step - loss: 0.3198 - accuracy: 0.9157 - val_loss: 0.5688 - val_accuracy: 0.8769\n",
      "Epoch 15/500\n",
      "110/110 [==============================] - 5s 45ms/step - loss: 0.2860 - accuracy: 0.9203 - val_loss: 0.1696 - val_accuracy: 0.9444\n",
      "Epoch 16/500\n",
      "110/110 [==============================] - 5s 45ms/step - loss: 0.2216 - accuracy: 0.9177 - val_loss: 0.2409 - val_accuracy: 0.9402\n",
      "Epoch 17/500\n",
      "110/110 [==============================] - 5s 45ms/step - loss: 0.3505 - accuracy: 0.9200 - val_loss: 0.1909 - val_accuracy: 0.9436\n",
      "Epoch 18/500\n",
      "110/110 [==============================] - 5s 45ms/step - loss: 0.2351 - accuracy: 0.9160 - val_loss: 0.3159 - val_accuracy: 0.9462\n",
      "Epoch 19/500\n",
      "110/110 [==============================] - 5s 44ms/step - loss: 0.2681 - accuracy: 0.9294 - val_loss: 0.2661 - val_accuracy: 0.9427\n",
      "Epoch 20/500\n",
      "110/110 [==============================] - 5s 44ms/step - loss: 0.2241 - accuracy: 0.9149 - val_loss: 0.5861 - val_accuracy: 0.9342\n"
     ]
    }
   ],
   "source": [
    "# Fit the model: \n",
    "# Started 12:48 pm; ended pm --> 9 min to train \n",
    "fitted_inceptionV3_mod = fit_model(inceptionV3_mod, train_data, val_data)"
   ]
  },
  {
   "cell_type": "code",
   "execution_count": 34,
   "metadata": {},
   "outputs": [
    {
     "name": "stdout",
     "output_type": "stream",
     "text": [
      "37/37 [==============================] - 2s 37ms/step - loss: 0.6130 - accuracy: 0.9216\n"
     ]
    },
    {
     "data": {
      "text/plain": [
       "[0.6129802465438843, 0.9216354489326477]"
      ]
     },
     "execution_count": 34,
     "metadata": {},
     "output_type": "execute_result"
    }
   ],
   "source": [
    "fitted_inceptionV3_mod.evaluate(test_data)"
   ]
  },
  {
   "cell_type": "code",
   "execution_count": 65,
   "metadata": {},
   "outputs": [],
   "source": [
    "# Function to build model \n",
    "def build_resnet50V2_model():\n",
    "    \n",
    "    # Define input shape for the model \n",
    "    inputs = keras.Input(shape = (180, 180, 3))\n",
    "    # Resnet 50 basemodel \n",
    "    base_model = ResNet50V2(input_shape = (180, 180, 3), weights = 'imagenet', include_top = False)\n",
    "    \n",
    "    for layer in base_model.layers:\n",
    "        layer.trainable = False\n",
    "    \n",
    "    x = keras.applications.resnet_v2.preprocess_input(inputs)\n",
    "    x = base_model(x)\n",
    "    x = keras.layers.Flatten()(x)\n",
    " \n",
    "    x = keras.layers.Dense(256, activation = 'relu')(x)\n",
    "    x = keras.layers.Dropout(0.2)(x)\n",
    "    outputs = keras.layers.Dense(1, activation = 'sigmoid')(x)\n",
    "    \n",
    "    model = keras.Model(inputs, outputs)\n",
    "    model.compile(loss = 'binary_crossentropy', metrics = ['accuracy'])\n",
    "    \n",
    "    return model"
   ]
  },
  {
   "cell_type": "code",
   "execution_count": 66,
   "metadata": {},
   "outputs": [],
   "source": [
    "# Build the model: \n",
    "resnet50V2_mod = build_resnet50V2_model()"
   ]
  },
  {
   "cell_type": "code",
   "execution_count": 67,
   "metadata": {},
   "outputs": [
    {
     "name": "stdout",
     "output_type": "stream",
     "text": [
      "Epoch 1/500\n",
      "110/110 [==============================] - 10s 62ms/step - loss: 1.9958 - accuracy: 0.8944 - val_loss: 0.1643 - val_accuracy: 0.9265\n",
      "Epoch 2/500\n",
      "110/110 [==============================] - 6s 56ms/step - loss: 0.2709 - accuracy: 0.9342 - val_loss: 0.1457 - val_accuracy: 0.9556\n",
      "Epoch 3/500\n",
      "110/110 [==============================] - 7s 58ms/step - loss: 0.2631 - accuracy: 0.9513 - val_loss: 0.1783 - val_accuracy: 0.9504\n",
      "Epoch 4/500\n",
      "110/110 [==============================] - 6s 57ms/step - loss: 0.1821 - accuracy: 0.9638 - val_loss: 0.1727 - val_accuracy: 0.9547\n",
      "Epoch 5/500\n",
      "110/110 [==============================] - 6s 57ms/step - loss: 0.0985 - accuracy: 0.9769 - val_loss: 0.1756 - val_accuracy: 0.9564\n",
      "Epoch 6/500\n",
      "110/110 [==============================] - 7s 58ms/step - loss: 0.0634 - accuracy: 0.9829 - val_loss: 0.7078 - val_accuracy: 0.9239\n",
      "Epoch 7/500\n",
      "110/110 [==============================] - 6s 56ms/step - loss: 0.0768 - accuracy: 0.9826 - val_loss: 0.2488 - val_accuracy: 0.9624\n"
     ]
    }
   ],
   "source": [
    "# Fit the model: \n",
    "# Started 12:48 pm; ended pm --> 9 min to train \n",
    "resnet50V2_mod = fit_model(resnet50V2_mod, train_data, val_data)"
   ]
  },
  {
   "cell_type": "code",
   "execution_count": 64,
   "metadata": {},
   "outputs": [
    {
     "name": "stdout",
     "output_type": "stream",
     "text": [
      "37/37 [==============================] - 2s 39ms/step - loss: 0.5262 - accuracy: 0.9583\n"
     ]
    },
    {
     "data": {
      "text/plain": [
       "[0.5261532664299011, 0.9582623243331909]"
      ]
     },
     "execution_count": 64,
     "metadata": {},
     "output_type": "execute_result"
    }
   ],
   "source": [
    "resnet50V2_mod.evaluate(test_data)"
   ]
  },
  {
   "cell_type": "code",
   "execution_count": 44,
   "metadata": {},
   "outputs": [
    {
     "name": "stderr",
     "output_type": "stream",
     "text": [
      "WARNING:absl:Found untraced functions such as _jit_compiled_convolution_op, _jit_compiled_convolution_op, _jit_compiled_convolution_op, _jit_compiled_convolution_op, _jit_compiled_convolution_op while saving (showing 5 of 94). These functions will not be directly callable after loading.\n"
     ]
    },
    {
     "name": "stdout",
     "output_type": "stream",
     "text": [
      "INFO:tensorflow:Assets written to: ram://2f0b1158-0ad8-4ee0-8529-f38bd479d67f/assets\n"
     ]
    },
    {
     "name": "stderr",
     "output_type": "stream",
     "text": [
      "INFO:tensorflow:Assets written to: ram://2f0b1158-0ad8-4ee0-8529-f38bd479d67f/assets\n"
     ]
    }
   ],
   "source": [
    "# maybe use docker instead of pickle\n",
    "\n",
    "import pickle\n",
    "filename = 'pneumonia_inceptionV.pkl'\n",
    "pickle.dump(fitted_inceptionV3_mod, open(filename, 'wb'))"
   ]
  }
 ],
 "metadata": {
  "kernelspec": {
   "display_name": ".venv",
   "language": "python",
   "name": "python3"
  },
  "language_info": {
   "codemirror_mode": {
    "name": "ipython",
    "version": 3
   },
   "file_extension": ".py",
   "mimetype": "text/x-python",
   "name": "python",
   "nbconvert_exporter": "python",
   "pygments_lexer": "ipython3",
   "version": "3.10.9"
  },
  "orig_nbformat": 4,
  "vscode": {
   "interpreter": {
    "hash": "ec691a19967da4d9de78f50ff8ff93098c175cbc1d9f273cfd57fe88badd9f1b"
   }
  }
 },
 "nbformat": 4,
 "nbformat_minor": 2
}
