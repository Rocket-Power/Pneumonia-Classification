{
 "cells": [
  {
   "cell_type": "markdown",
   "id": "fca2e3eb",
   "metadata": {},
   "source": [
    "# Transfer Learning Pneumonia Project 12/20/22"
   ]
  },
  {
   "cell_type": "markdown",
   "id": "53962098",
   "metadata": {},
   "source": [
    "## Import Initial Data "
   ]
  },
  {
   "cell_type": "code",
   "execution_count": 2,
   "id": "db94e348",
   "metadata": {},
   "outputs": [],
   "source": [
    "# imports \n",
    "from tensorflow import keras\n",
    "from tensorflow.keras.utils import image_dataset_from_directory\n",
    "from tensorflow.keras.applications.resnet50 import ResNet50\n",
    "from tensorflow.keras.applications.inception_v3 import InceptionV3\n",
    "from tensorflow.keras.models import Model\n",
    "from tensorflow.keras.layers import Dense, GlobalAveragePooling2D"
   ]
  },
  {
   "cell_type": "code",
   "execution_count": 15,
   "id": "f847475b",
   "metadata": {},
   "outputs": [
    {
     "ename": "ModuleNotFoundError",
     "evalue": "No module named 'tensorflow.keras.applications.resnet50v2'",
     "output_type": "error",
     "traceback": [
      "\u001b[0;31m---------------------------------------------------------------------------\u001b[0m",
      "\u001b[0;31mModuleNotFoundError\u001b[0m                       Traceback (most recent call last)",
      "\u001b[0;32m<ipython-input-15-a9d88715672c>\u001b[0m in \u001b[0;36m<module>\u001b[0;34m\u001b[0m\n\u001b[0;32m----> 1\u001b[0;31m \u001b[0;32mfrom\u001b[0m \u001b[0mtensorflow\u001b[0m\u001b[0;34m.\u001b[0m\u001b[0mkeras\u001b[0m\u001b[0;34m.\u001b[0m\u001b[0mapplications\u001b[0m\u001b[0;34m.\u001b[0m\u001b[0mresnet50v2\u001b[0m \u001b[0;32mimport\u001b[0m \u001b[0mResNet50V2\u001b[0m\u001b[0;34m\u001b[0m\u001b[0;34m\u001b[0m\u001b[0m\n\u001b[0m",
      "\u001b[0;31mModuleNotFoundError\u001b[0m: No module named 'tensorflow.keras.applications.resnet50v2'"
     ]
    }
   ],
   "source": [
    "# Figure out how to import this model \n",
    "# from tensorflow.keras.applications.resnet50v2 import ResNet50V2"
   ]
  },
  {
   "cell_type": "code",
   "execution_count": 17,
   "id": "b1985775",
   "metadata": {},
   "outputs": [
    {
     "name": "stdout",
     "output_type": "stream",
     "text": [
      "Found 16 files belonging to 2 classes.\n"
     ]
    }
   ],
   "source": [
    "# Note: There are only 8 images per label here, so we're going to have to change what we do here \n",
    "# Confirmed that the # of images in the 3 folders sum to 5,856, which is the total number of images "
   ]
  },
  {
   "cell_type": "code",
   "execution_count": 3,
   "id": "211285e4",
   "metadata": {},
   "outputs": [
    {
     "name": "stdout",
     "output_type": "stream",
     "text": [
      "Found 399 files belonging to 2 classes.\n",
      "Using 320 files for training.\n"
     ]
    }
   ],
   "source": [
    "# Use validation_split to get the training and validation data \n",
    "train_data = keras.utils.image_dataset_from_directory(\n",
    "    'initial_data/train',\n",
    "    image_size=(180, 180), \n",
    "    batch_size=32, \n",
    "    validation_split=0.2, \n",
    "    subset = 'training', \n",
    "    seed = 10\n",
    ")"
   ]
  },
  {
   "cell_type": "code",
   "execution_count": 4,
   "id": "a558f1e1",
   "metadata": {},
   "outputs": [
    {
     "name": "stdout",
     "output_type": "stream",
     "text": [
      "Found 399 files belonging to 2 classes.\n",
      "Using 79 files for validation.\n"
     ]
    }
   ],
   "source": [
    "# Validation data: 79 files \n",
    "val_data = keras.utils.image_dataset_from_directory(\n",
    "    'initial_data/train',\n",
    "    image_size=(180, 180), \n",
    "    batch_size=32, \n",
    "    validation_split=0.2, \n",
    "    subset = 'validation', \n",
    "    seed = 10\n",
    ")"
   ]
  },
  {
   "cell_type": "code",
   "execution_count": 5,
   "id": "2ac6781d",
   "metadata": {},
   "outputs": [
    {
     "name": "stdout",
     "output_type": "stream",
     "text": [
      "Found 100 files belonging to 2 classes.\n"
     ]
    }
   ],
   "source": [
    "# Test data: 50 pneumonia and 50 normal images \n",
    "test_data = keras.utils.image_dataset_from_directory(\n",
    "    'initial_data/test',\n",
    "    image_size=(180, 180), \n",
    "    batch_size=32, \n",
    ")"
   ]
  },
  {
   "cell_type": "markdown",
   "id": "bfa92761",
   "metadata": {},
   "source": [
    "## Initial ResNet 50 model: "
   ]
  },
  {
   "cell_type": "code",
   "execution_count": 28,
   "id": "4b853574",
   "metadata": {},
   "outputs": [],
   "source": [
    "# Function to build model \n",
    "def build_resnet50_model():\n",
    "    \n",
    "    # Define input shape for the model \n",
    "    inputs = keras.Input(shape = (180, 180, 3))\n",
    "    # Resnet 50 basemodel \n",
    "    base_model = ResNet50(input_shape = (180, 180, 3), weights = 'imagenet', include_top = False)\n",
    "    \n",
    "    for layer in base_model.layers:\n",
    "        layer.trainable = False\n",
    "    \n",
    "    x = keras.applications.resnet50.preprocess_input(inputs)\n",
    "    x = base_model(x)\n",
    "    x = keras.layers.Flatten()(x)\n",
    " \n",
    "    x = keras.layers.Dense(256, activation = 'relu')(x)\n",
    "    x = keras.layers.Dropout(0.5)(x)\n",
    "    outputs = keras.layers.Dense(1, activation = 'sigmoid')(x)\n",
    "    \n",
    "    model = keras.Model(inputs, outputs)\n",
    "    model.compile(loss = 'binary_crossentropy', metrics = ['accuracy'])\n",
    "    \n",
    "    return model"
   ]
  },
  {
   "cell_type": "code",
   "execution_count": 29,
   "id": "0253f80a",
   "metadata": {},
   "outputs": [],
   "source": [
    "# Build the model: \n",
    "resnet50_mod = build_resnet50_model()"
   ]
  },
  {
   "cell_type": "code",
   "execution_count": 31,
   "id": "f5576efb",
   "metadata": {},
   "outputs": [],
   "source": [
    "# Function to fit model \n",
    "def fit_model(model, train_set, validation_set):\n",
    "    \"\"\"Fit a model with the above stated criteria\"\"\"\n",
    "    # Set patience to 5 so it doesn't take too long to fit \n",
    "    early_stopping = keras.callbacks.EarlyStopping(patience = 5)\n",
    "    \n",
    "    model.fit(train_set, \n",
    "              validation_data = validation_set, \n",
    "              callbacks = [early_stopping], \n",
    "              epochs = 500)\n",
    "    \n",
    "    return model"
   ]
  },
  {
   "cell_type": "code",
   "execution_count": 33,
   "id": "3b2f04f8",
   "metadata": {},
   "outputs": [
    {
     "name": "stdout",
     "output_type": "stream",
     "text": [
      "Epoch 1/500\n",
      "10/10 [==============================] - 56s 5s/step - loss: 19.5305 - accuracy: 0.7906 - val_loss: 3.9967 - val_accuracy: 0.9620\n",
      "Epoch 2/500\n",
      "10/10 [==============================] - 44s 4s/step - loss: 3.1408 - accuracy: 0.9375 - val_loss: 2.7341 - val_accuracy: 0.9620\n",
      "Epoch 3/500\n",
      "10/10 [==============================] - 39s 4s/step - loss: 4.7673 - accuracy: 0.9187 - val_loss: 3.5335 - val_accuracy: 0.9620\n",
      "Epoch 4/500\n",
      "10/10 [==============================] - 40s 4s/step - loss: 0.8546 - accuracy: 0.9750 - val_loss: 3.9465 - val_accuracy: 0.9494\n",
      "Epoch 5/500\n",
      "10/10 [==============================] - 40s 4s/step - loss: 0.8305 - accuracy: 0.9750 - val_loss: 2.0052 - val_accuracy: 0.9494\n",
      "Epoch 6/500\n",
      "10/10 [==============================] - 42s 4s/step - loss: 1.0111 - accuracy: 0.9719 - val_loss: 2.5154 - val_accuracy: 0.9747\n",
      "Epoch 7/500\n",
      "10/10 [==============================] - 39s 4s/step - loss: 1.1350 - accuracy: 0.9656 - val_loss: 3.0961 - val_accuracy: 0.9620\n",
      "Epoch 8/500\n",
      "10/10 [==============================] - 38s 4s/step - loss: 0.3814 - accuracy: 0.9875 - val_loss: 1.2545 - val_accuracy: 0.9747\n",
      "Epoch 9/500\n",
      "10/10 [==============================] - 40s 4s/step - loss: 0.7483 - accuracy: 0.9656 - val_loss: 4.6311 - val_accuracy: 0.9241\n",
      "Epoch 10/500\n",
      "10/10 [==============================] - 39s 4s/step - loss: 0.5514 - accuracy: 0.9844 - val_loss: 1.3068 - val_accuracy: 0.9494\n",
      "Epoch 11/500\n",
      "10/10 [==============================] - 39s 4s/step - loss: 0.3069 - accuracy: 0.9906 - val_loss: 2.3178 - val_accuracy: 0.9620\n",
      "Epoch 12/500\n",
      "10/10 [==============================] - 39s 4s/step - loss: 1.6835 - accuracy: 0.9563 - val_loss: 1.8720 - val_accuracy: 0.9620\n",
      "Epoch 13/500\n",
      "10/10 [==============================] - 43s 4s/step - loss: 0.2570 - accuracy: 0.9969 - val_loss: 4.4570 - val_accuracy: 0.9494\n"
     ]
    }
   ],
   "source": [
    "# Fit the model: \n",
    "# Started 12:18 pm; ended 12:55 pm --> 7 min to train \n",
    "# Best model: \n",
    "fitted_resnet50_mod = fit_model(resnet50_mod, train_data, val_data)"
   ]
  },
  {
   "cell_type": "markdown",
   "id": "86c6c0e8",
   "metadata": {},
   "source": [
    "## Initial InceptionV3 model: "
   ]
  },
  {
   "cell_type": "code",
   "execution_count": 34,
   "id": "754cf2e3",
   "metadata": {},
   "outputs": [],
   "source": [
    "# Function to build model \n",
    "def build_inceptionV3_model():\n",
    "    \n",
    "    # Define input shape for the model \n",
    "    inputs = keras.Input(shape = (180, 180, 3))\n",
    "    # InceptionV3 base model \n",
    "    base_model = InceptionV3(input_shape = (180, 180, 3), weights = 'imagenet', include_top = False)\n",
    "    \n",
    "    for layer in base_model.layers:\n",
    "        layer.trainable = False\n",
    "    \n",
    "    x = keras.applications.resnet50.preprocess_input(inputs)\n",
    "    x = base_model(x)\n",
    "    x = keras.layers.Flatten()(x)\n",
    " \n",
    "    x = keras.layers.Dense(256, activation = 'relu')(x)\n",
    "    x = keras.layers.Dropout(0.5)(x)\n",
    "    outputs = keras.layers.Dense(1, activation = 'sigmoid')(x)\n",
    "    \n",
    "    model = keras.Model(inputs, outputs)\n",
    "    model.compile(loss = 'binary_crossentropy', metrics = ['accuracy'])\n",
    "    \n",
    "    return model"
   ]
  },
  {
   "cell_type": "code",
   "execution_count": 35,
   "id": "c79d064f",
   "metadata": {},
   "outputs": [
    {
     "name": "stdout",
     "output_type": "stream",
     "text": [
      "Downloading data from https://storage.googleapis.com/tensorflow/keras-applications/inception_v3/inception_v3_weights_tf_dim_ordering_tf_kernels_notop.h5\n",
      "87916544/87910968 [==============================] - 5s 0us/step\n",
      "87924736/87910968 [==============================] - 5s 0us/step\n"
     ]
    }
   ],
   "source": [
    "# Build the model: \n",
    "inceptionV3_mod = build_inceptionV3_model()"
   ]
  },
  {
   "cell_type": "code",
   "execution_count": 36,
   "id": "75f9afb1",
   "metadata": {},
   "outputs": [
    {
     "name": "stdout",
     "output_type": "stream",
     "text": [
      "Epoch 1/500\n",
      "10/10 [==============================] - 31s 2s/step - loss: 336.5932 - accuracy: 0.6156 - val_loss: 18.4656 - val_accuracy: 0.9241\n",
      "Epoch 2/500\n",
      "10/10 [==============================] - 23s 2s/step - loss: 44.6391 - accuracy: 0.8125 - val_loss: 12.4793 - val_accuracy: 0.9114\n",
      "Epoch 3/500\n",
      "10/10 [==============================] - 21s 2s/step - loss: 21.8102 - accuracy: 0.7625 - val_loss: 2.8006 - val_accuracy: 0.8734\n",
      "Epoch 4/500\n",
      "10/10 [==============================] - 25s 2s/step - loss: 5.3799 - accuracy: 0.8313 - val_loss: 1.1511 - val_accuracy: 0.8987\n",
      "Epoch 5/500\n",
      "10/10 [==============================] - 36s 3s/step - loss: 5.0369 - accuracy: 0.8156 - val_loss: 0.9349 - val_accuracy: 0.8101\n",
      "Epoch 6/500\n",
      "10/10 [==============================] - 19s 2s/step - loss: 3.2668 - accuracy: 0.8062 - val_loss: 0.4406 - val_accuracy: 0.9241\n",
      "Epoch 7/500\n",
      "10/10 [==============================] - 32s 3s/step - loss: 0.8500 - accuracy: 0.7844 - val_loss: 0.1891 - val_accuracy: 0.9114\n",
      "Epoch 8/500\n",
      "10/10 [==============================] - 21s 2s/step - loss: 0.3705 - accuracy: 0.8469 - val_loss: 0.1957 - val_accuracy: 0.9241\n",
      "Epoch 9/500\n",
      "10/10 [==============================] - 21s 2s/step - loss: 2.5950 - accuracy: 0.8375 - val_loss: 3.6267 - val_accuracy: 0.5570\n",
      "Epoch 10/500\n",
      "10/10 [==============================] - 25s 2s/step - loss: 1.4756 - accuracy: 0.7812 - val_loss: 3.0880 - val_accuracy: 0.6203\n",
      "Epoch 11/500\n",
      "10/10 [==============================] - 26s 2s/step - loss: 1.5302 - accuracy: 0.8031 - val_loss: 0.2385 - val_accuracy: 0.8861\n",
      "Epoch 12/500\n",
      "10/10 [==============================] - 40s 4s/step - loss: 2.0625 - accuracy: 0.7906 - val_loss: 0.5508 - val_accuracy: 0.8987\n"
     ]
    }
   ],
   "source": [
    "# Fit the model: \n",
    "# Started 12:48 pm; ended pm --> 9 min to train \n",
    "fitted_inceptionV3_mod = fit_model(inceptionV3_mod, train_data, val_data)"
   ]
  },
  {
   "cell_type": "code",
   "execution_count": null,
   "id": "4361ad08",
   "metadata": {},
   "outputs": [],
   "source": []
  },
  {
   "cell_type": "code",
   "execution_count": null,
   "id": "9f3e5caf",
   "metadata": {},
   "outputs": [],
   "source": []
  },
  {
   "cell_type": "code",
   "execution_count": null,
   "id": "d46d54dd",
   "metadata": {},
   "outputs": [],
   "source": []
  }
 ],
 "metadata": {
  "kernelspec": {
   "display_name": "Python 3",
   "language": "python",
   "name": "python3"
  },
  "language_info": {
   "codemirror_mode": {
    "name": "ipython",
    "version": 3
   },
   "file_extension": ".py",
   "mimetype": "text/x-python",
   "name": "python",
   "nbconvert_exporter": "python",
   "pygments_lexer": "ipython3",
   "version": "3.8.8"
  }
 },
 "nbformat": 4,
 "nbformat_minor": 5
}
